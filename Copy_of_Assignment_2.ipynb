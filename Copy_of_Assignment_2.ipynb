{
  "nbformat": 4,
  "nbformat_minor": 0,
  "metadata": {
    "colab": {
      "private_outputs": true,
      "provenance": []
    },
    "kernelspec": {
      "name": "python3",
      "display_name": "Python 3"
    },
    "language_info": {
      "name": "python"
    }
  },
  "cells": [
    {
      "cell_type": "markdown",
      "source": [
        "Q.1 How do you comment code in python? What are the different types of comment?"
      ],
      "metadata": {
        "id": "wEP1MB80eno1"
      }
    },
    {
      "cell_type": "markdown",
      "source": [
        "Ans:- Comment is the instruction about code within we describe about code step by step or important note we provide within comment. Comment start with # (Hash) Tag. This is simple line comment. Python ignores the comment line.\n",
        "There are two types of comment:-\n",
        "1.  Single line comment:- This comment start or begining with # (Hash Tag)\n",
        "    Eg- #this is my first comment\n",
        "        #this is my second comment\n",
        "2. Multiple line comment:- Multi lines commenty written in between three cotted ('''   ''')\n",
        "    Eg- \n",
        "    '''\n",
        "    This is my first program.\n",
        "    This is my first comment.\n",
        "    Fist we take variable then we give variable name and in variable we take int, float or strind type data then we take another variable after that we give command to python for print, print(a).\n",
        "    '''\n"
      ],
      "metadata": {
        "id": "WpnnFZRPe8vv"
      }
    },
    {
      "cell_type": "code",
      "source": [
        "#this is my first comment\n",
        "#give the variable name\n",
        "#take whyle loop and include if else condition for loop.\n"
      ],
      "metadata": {
        "id": "uQaLSSqDhmVP"
      },
      "execution_count": null,
      "outputs": []
    },
    {
      "cell_type": "code",
      "execution_count": null,
      "metadata": {
        "id": "7AcVV62DegHO"
      },
      "outputs": [],
      "source": [
        "'''\n",
        "This is my first program.\n",
        "This is my first comment.\n",
        "Fist we take variable then we give variable name and in variable we take int, float or strind type data then we take another variable after that we give command to python for print, print(a).\n",
        "'''"
      ]
    },
    {
      "cell_type": "markdown",
      "source": [
        "Q.2 What is variable in python? How do you declear and assign values to variables?"
      ],
      "metadata": {
        "id": "uNLx8Ju0if5o"
      }
    },
    {
      "cell_type": "markdown",
      "source": [
        "Ans:- Variable is a container of int, float, string or boolian taype value. A python vasriable is a rewserved memory location to store values. In otherword, a variable in a python program gives data to the computer for processing. Every value in python has a datatype. Different data types in Python are Numbers, List, Tuple, String, Dictonary, etc. Variables can be created by any name or even alphabets like a, b, abc etc.  \n",
        "We always use the '=' sign to initialize a value to the variable. We can't use a comma with numbers. Once a data type is define for the variable, then only that type of data can be stored in it. \n",
        "Eg- If a variable is decleared as int, then it can only store integer values.     "
      ],
      "metadata": {
        "id": "YFIZGge9ivfF"
      }
    },
    {
      "cell_type": "code",
      "source": [
        "a=input(int())\n",
        "b=15.4\n",
        "c=input(str())\n",
        "print(a, b, c)"
      ],
      "metadata": {
        "id": "Ccvrs2A5manm"
      },
      "execution_count": null,
      "outputs": []
    },
    {
      "cell_type": "markdown",
      "source": [
        "Q.3 How do you convert one data type to another in python?"
      ],
      "metadata": {
        "id": "6nmm0-sLnqHt"
      }
    },
    {
      "cell_type": "markdown",
      "source": [
        "Ans:- When we convert one data type to another, is called coasting of data.\n",
        "Eg-\n",
        "1. Str to Int:-\n",
        "a='10'\n",
        "b=int(a)\n",
        "print(b)\n",
        "\n",
        "a=\"Data\"\n",
        "b=str(a)\n",
        "print(b)\n",
        "\n",
        "2. Float to Int:-\n",
        "a=10.5\n",
        "b=int(a)\n",
        "print(b)\n",
        "\n",
        "3. Int to Float:- \n",
        "a=10\n",
        "b=float(a)\n",
        "print(b)\n",
        "\n",
        "4. Str to Float:-\n",
        "a='10.5'\n",
        "b=float(a)\n",
        "print(b)\n"
      ],
      "metadata": {
        "id": "LeUer49Tn5hm"
      }
    },
    {
      "cell_type": "code",
      "source": [
        "a='10'\n",
        "b=int(a)\n",
        "print(b)"
      ],
      "metadata": {
        "id": "weUG2-DypRz8"
      },
      "execution_count": null,
      "outputs": []
    },
    {
      "cell_type": "code",
      "source": [
        "a=\"Data\"\n",
        "b=str(a)\n",
        "print(b)"
      ],
      "metadata": {
        "id": "gIlbfbqMpatL"
      },
      "execution_count": null,
      "outputs": []
    },
    {
      "cell_type": "code",
      "source": [
        "a=10.5\n",
        "b=int(a)\n",
        "print(b)"
      ],
      "metadata": {
        "id": "81zQeOSdpdNX"
      },
      "execution_count": null,
      "outputs": []
    },
    {
      "cell_type": "code",
      "source": [
        "a=10\n",
        "b=float(a)\n",
        "print(b)"
      ],
      "metadata": {
        "id": "V2NOJ5Ecpdrs"
      },
      "execution_count": null,
      "outputs": []
    },
    {
      "cell_type": "code",
      "source": [
        "a='10.5'\n",
        "b=float(a)\n",
        "print(b)"
      ],
      "metadata": {
        "id": "8fOn1I1BpqG4"
      },
      "execution_count": null,
      "outputs": []
    },
    {
      "cell_type": "markdown",
      "source": [
        "Q.4 How do you write and execute a Python script frpm the cpmmond line?"
      ],
      "metadata": {
        "id": "x08JmeAs50oR"
      }
    },
    {
      "cell_type": "markdown",
      "source": [
        "Ans:- The most basic and easy way to run or execute a Python script is by using the pythoncommand. For this we need to open a command line and type the word. Python followed the path to our script file like this: python_script.py Hello World! then we hit the Enter kay button to the keyboard and that's it."
      ],
      "metadata": {
        "id": "x_B6gX9U6JUc"
      }
    },
    {
      "cell_type": "code",
      "source": [
        "python_script=\"Hello World!\""
      ],
      "metadata": {
        "id": "6UA-Prqs742n"
      },
      "execution_count": null,
      "outputs": []
    },
    {
      "cell_type": "markdown",
      "source": [
        "Q.5 Given a list my_list=[1,2,3,4,5]. Write the code to slice the list and obtain the sub-list[2,3]."
      ],
      "metadata": {
        "id": "KXQ82OAI8dkx"
      }
    },
    {
      "cell_type": "markdown",
      "source": [
        "Ans:-"
      ],
      "metadata": {
        "id": "ONDHDh1g8z7U"
      }
    },
    {
      "cell_type": "code",
      "source": [],
      "metadata": {
        "id": "joZTYLQG81ky"
      },
      "execution_count": null,
      "outputs": []
    },
    {
      "cell_type": "markdown",
      "source": [
        "Q.6 What is a complex number in mathematics, and how is it represented in python?"
      ],
      "metadata": {
        "id": "YvdEGK7T9RUX"
      }
    },
    {
      "cell_type": "markdown",
      "source": [
        "Ans:-"
      ],
      "metadata": {
        "id": "bLQx6cgG9dDJ"
      }
    },
    {
      "cell_type": "code",
      "source": [],
      "metadata": {
        "id": "f0INZJyj9eaK"
      },
      "execution_count": null,
      "outputs": []
    },
    {
      "cell_type": "markdown",
      "source": [
        "Q.7 What is the correct way to declare a variable named age and assign the value 25 to it?"
      ],
      "metadata": {
        "id": "k-jCFarr82UG"
      }
    },
    {
      "cell_type": "markdown",
      "source": [
        "Ans:-"
      ],
      "metadata": {
        "id": "w7ieJYmn9Ba-"
      }
    },
    {
      "cell_type": "code",
      "source": [],
      "metadata": {
        "id": "l9yafXqv9C0n"
      },
      "execution_count": null,
      "outputs": []
    },
    {
      "cell_type": "markdown",
      "source": [
        "Q.8 Declare a variable named price and assign the value 9.99 to it. What type does this variable belong to?"
      ],
      "metadata": {
        "id": "7EUYAUgG9y_Z"
      }
    },
    {
      "cell_type": "markdown",
      "source": [
        "Ans:-"
      ],
      "metadata": {
        "id": "H54AiaxU-XhG"
      }
    },
    {
      "cell_type": "code",
      "source": [],
      "metadata": {
        "id": "s5qiUv4K-ZJH"
      },
      "execution_count": null,
      "outputs": []
    },
    {
      "cell_type": "markdown",
      "source": [
        "Q.9 Create a variable named name and assign your full name to it as a string. How would you print the value of this variable?"
      ],
      "metadata": {
        "id": "kqh7wexD9DeI"
      }
    },
    {
      "cell_type": "markdown",
      "source": [
        "Ans:-"
      ],
      "metadata": {
        "id": "gAJfG2wX9w_Y"
      }
    },
    {
      "cell_type": "code",
      "source": [],
      "metadata": {
        "id": "3cS6lbuF9ye8"
      },
      "execution_count": null,
      "outputs": []
    },
    {
      "cell_type": "markdown",
      "source": [
        "Q.10 Given the string \"Hello World!\", extract the substring \"World\"."
      ],
      "metadata": {
        "id": "j5Q3_lmy-ieD"
      }
    },
    {
      "cell_type": "markdown",
      "source": [
        "Ans:-"
      ],
      "metadata": {
        "id": "VlaviI0I-3K1"
      }
    },
    {
      "cell_type": "code",
      "source": [],
      "metadata": {
        "id": "pZQDy1tl-4wY"
      },
      "execution_count": null,
      "outputs": []
    },
    {
      "cell_type": "markdown",
      "source": [
        "Q.11 Create a variable named \"is_student\" and assign it a boolean value indicating whether you are currently a student or not."
      ],
      "metadata": {
        "id": "e8Fj3sMH-5hi"
      }
    },
    {
      "cell_type": "markdown",
      "source": [
        "Ans:-"
      ],
      "metadata": {
        "id": "elkJGYhu_Mjc"
      }
    },
    {
      "cell_type": "code",
      "source": [],
      "metadata": {
        "id": "Bv3-j7D6_OD9"
      },
      "execution_count": null,
      "outputs": []
    }
  ]
}